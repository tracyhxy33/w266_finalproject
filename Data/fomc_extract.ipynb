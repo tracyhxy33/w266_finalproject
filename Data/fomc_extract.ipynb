{
 "cells": [
  {
   "cell_type": "code",
   "execution_count": 3,
   "metadata": {},
   "outputs": [],
   "source": [
    "from bs4 import BeautifulSoup\n",
    "from urllib.request import urlopen\n",
    "import re\n",
    "import pandas as pd\n",
    "import pickle\n",
    "import threading\n",
    "import sys\n",
    "import datetime\n",
    "import glob"
   ]
  },
  {
   "cell_type": "code",
   "execution_count": 4,
   "metadata": {},
   "outputs": [],
   "source": [
    "myDate = []\n",
    "myText = []\n",
    "for filename in glob.glob(\"./statements/*.txt\"):\n",
    "    with open(filename,'r') as file:\n",
    "        myText.append(file.read().replace('\\n', ' '))\n",
    "        myDate.append(datetime.date(int(filename[13:17]),int(filename[17:19]),int(filename[19:21])))"
   ]
  },
  {
   "cell_type": "code",
   "execution_count": 5,
   "metadata": {},
   "outputs": [],
   "source": [
    "def find_statement_startend(text):\n",
    "    start = -1\n",
    "    end = -1\n",
    "    for i in range(len(text)):\n",
    "        if text[i].find(\"For release\")>=0:\n",
    "            start = i+1\n",
    "        if text[i].find(\"Implementation Note issued\")>=0:\n",
    "            end = i-1\n",
    "    return [start,end]"
   ]
  },
  {
   "cell_type": "code",
   "execution_count": 6,
   "metadata": {},
   "outputs": [],
   "source": [
    "def extract(url):\n",
    "    statement_socket = urlopen(url)\n",
    "    htmlpage = BeautifulSoup(statement_socket, 'html.parser')\n",
    "    paragraphs = htmlpage.findAll('p')\n",
    "    text = [paragraph.get_text().strip() for paragraph in paragraphs]\n",
    "    start, end = find_statement_startend(text)\n",
    "    start = max(start,0)\n",
    "    if end < 0:\n",
    "        end = len(text)-1\n",
    "    text = text[start:end]\n",
    "    statement = \"\".join(text)\n",
    "    \n",
    "    return statement"
   ]
  },
  {
   "cell_type": "code",
   "execution_count": 7,
   "metadata": {},
   "outputs": [],
   "source": [
    "release_date = [datetime.date(2016,11,2),\n",
    "               datetime.date(2016,12,14),\n",
    "               datetime.date(2017,2,1),\n",
    "               datetime.date(2017,3,15),\n",
    "               datetime.date(2017,5,3),\n",
    "               datetime.date(2017,6,14),\n",
    "               datetime.date(2017,7,26),\n",
    "               datetime.date(2017,9,20),\n",
    "               datetime.date(2017,11,1),\n",
    "               datetime.date(2017,12,13),\n",
    "               datetime.date(2018,1,31),\n",
    "               datetime.date(2018,3,21),\n",
    "               datetime.date(2018,5,2),\n",
    "               datetime.date(2018,6,13),\n",
    "               datetime.date(2018,8,1),\n",
    "               datetime.date(2018,9,26),\n",
    "               datetime.date(2018,11,8),\n",
    "               datetime.date(2018,12,19),\n",
    "               datetime.date(2019,1,30),\n",
    "               datetime.date(2019,3,20),\n",
    "               datetime.date(2019,5,1),\n",
    "               datetime.date(2019,6,19),\n",
    "               datetime.date(2019,7,31),\n",
    "               datetime.date(2019,9,18)]"
   ]
  },
  {
   "cell_type": "code",
   "execution_count": 8,
   "metadata": {},
   "outputs": [],
   "source": [
    "for date in release_date:\n",
    "    myDate.append(date) \n",
    "    datein = date.strftime(\"%Y%m%d\")\n",
    "    url = f\"https://www.federalreserve.gov/newsevents/pressreleases/monetary{datein}a.htm\"\n",
    "    statement_text = extract(url)\n",
    "    myText.append(statement_text)"
   ]
  },
  {
   "cell_type": "code",
   "execution_count": 9,
   "metadata": {},
   "outputs": [],
   "source": [
    "df = pd.DataFrame({'Date': myDate, 'Statement': myText})\n",
    "df.sort_values(by='Date', inplace=True)"
   ]
  },
  {
   "cell_type": "code",
   "execution_count": 10,
   "metadata": {},
   "outputs": [
    {
     "data": {
      "text/html": [
       "<div>\n",
       "<style scoped>\n",
       "    .dataframe tbody tr th:only-of-type {\n",
       "        vertical-align: middle;\n",
       "    }\n",
       "\n",
       "    .dataframe tbody tr th {\n",
       "        vertical-align: top;\n",
       "    }\n",
       "\n",
       "    .dataframe thead th {\n",
       "        text-align: right;\n",
       "    }\n",
       "</style>\n",
       "<table border=\"1\" class=\"dataframe\">\n",
       "  <thead>\n",
       "    <tr style=\"text-align: right;\">\n",
       "      <th></th>\n",
       "      <th>Date</th>\n",
       "      <th>Statement</th>\n",
       "    </tr>\n",
       "  </thead>\n",
       "  <tbody>\n",
       "    <tr>\n",
       "      <th>25</th>\n",
       "      <td>1994-02-04</td>\n",
       "      <td>Chairman Alan Greenspan announced today that t...</td>\n",
       "    </tr>\n",
       "    <tr>\n",
       "      <th>80</th>\n",
       "      <td>1994-03-22</td>\n",
       "      <td>Chairman Alan Greenspan announced today that t...</td>\n",
       "    </tr>\n",
       "    <tr>\n",
       "      <th>67</th>\n",
       "      <td>1994-05-17</td>\n",
       "      <td>The Federal Reserve today announced two action...</td>\n",
       "    </tr>\n",
       "    <tr>\n",
       "      <th>133</th>\n",
       "      <td>1994-08-16</td>\n",
       "      <td>The Federal Reserve announced today the follow...</td>\n",
       "    </tr>\n",
       "    <tr>\n",
       "      <th>129</th>\n",
       "      <td>1994-11-15</td>\n",
       "      <td>The Federal Reserve Board today approved an in...</td>\n",
       "    </tr>\n",
       "  </tbody>\n",
       "</table>\n",
       "</div>"
      ],
      "text/plain": [
       "           Date                                          Statement\n",
       "25   1994-02-04  Chairman Alan Greenspan announced today that t...\n",
       "80   1994-03-22  Chairman Alan Greenspan announced today that t...\n",
       "67   1994-05-17  The Federal Reserve today announced two action...\n",
       "133  1994-08-16  The Federal Reserve announced today the follow...\n",
       "129  1994-11-15  The Federal Reserve Board today approved an in..."
      ]
     },
     "execution_count": 10,
     "metadata": {},
     "output_type": "execute_result"
    }
   ],
   "source": [
    "df.head()"
   ]
  },
  {
   "cell_type": "code",
   "execution_count": 11,
   "metadata": {},
   "outputs": [],
   "source": [
    "df.to_csv ('fomc_statement.csv', index = False)"
   ]
  },
  {
   "cell_type": "code",
   "execution_count": null,
   "metadata": {},
   "outputs": [],
   "source": []
  }
 ],
 "metadata": {
  "kernelspec": {
   "display_name": "Python 3",
   "language": "python",
   "name": "python3"
  },
  "language_info": {
   "codemirror_mode": {
    "name": "ipython",
    "version": 3
   },
   "file_extension": ".py",
   "mimetype": "text/x-python",
   "name": "python",
   "nbconvert_exporter": "python",
   "pygments_lexer": "ipython3",
   "version": "3.6.3"
  }
 },
 "nbformat": 4,
 "nbformat_minor": 1
}
