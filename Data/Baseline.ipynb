{
 "cells": [
  {
   "cell_type": "code",
   "execution_count": 1,
   "metadata": {},
   "outputs": [],
   "source": [
    "# Import standard libraries\n",
    "import pandas as pd\n",
    "import numpy as np\n",
    "import matplotlib.pyplot as plt\n",
    "import datetime\n",
    "import math\n",
    "import re\n",
    "\n",
    "# Import sklearn libraries\n",
    "from sklearn import svm\n",
    "import sklearn.model_selection as ms\n",
    "import sklearn.feature_extraction.text as text\n",
    "import sklearn.naive_bayes as nb\n",
    "from sklearn.feature_extraction.text import CountVectorizer\n",
    "from sklearn.decomposition import LatentDirichletAllocation"
   ]
  },
  {
   "cell_type": "markdown",
   "metadata": {},
   "source": [
    "# Data cleansing"
   ]
  },
  {
   "cell_type": "code",
   "execution_count": 24,
   "metadata": {},
   "outputs": [
    {
     "name": "stdout",
     "output_type": "stream",
     "text": [
      "        Date                                          Statement\n",
      "0 1994-02-04  Chairman Alan Greenspan announced today that t...\n",
      "1 1994-03-22  Chairman Alan Greenspan announced today that t...\n",
      "2 1994-05-17  The Federal Reserve today announced two action...\n",
      "3 1994-08-16  The Federal Reserve announced today the follow...\n",
      "4 1994-11-15  The Federal Reserve Board today approved an in...\n",
      "        Date  1 MO  3 MO  6 MO  1 YR  2 YR  3 YR  5 YR  7 YR  10 YR  20 YR  \\\n",
      "0 1990-01-02   NaN  7.83  7.89  7.81  7.87  7.90  7.87  7.98   7.94    NaN   \n",
      "1 1990-01-03   NaN  7.89  7.94  7.85  7.94  7.96  7.92  8.04   7.99    NaN   \n",
      "2 1990-01-04   NaN  7.84  7.90  7.82  7.92  7.93  7.91  8.02   7.98    NaN   \n",
      "3 1990-01-05   NaN  7.79  7.85  7.79  7.90  7.94  7.92  8.03   7.99    NaN   \n",
      "4 1990-01-08   NaN  7.79  7.88  7.81  7.90  7.95  7.92  8.05   8.02    NaN   \n",
      "\n",
      "   30 YR  \n",
      "0   8.00  \n",
      "1   8.04  \n",
      "2   8.04  \n",
      "3   8.06  \n",
      "4   8.09  \n",
      "184\n",
      "7443\n"
     ]
    }
   ],
   "source": [
    "# Read in the statements\n",
    "statements = pd.read_csv(\"fomc_statement.csv\",parse_dates=[\"Date\",])\n",
    "yields = pd.read_csv(\"DailyTreasuryYield.csv\",parse_dates=[\"Date\",])\n",
    "print(statements.head())\n",
    "print(yields.head())\n",
    "print(len(statements))\n",
    "print(len(yields))"
   ]
  },
  {
   "cell_type": "code",
   "execution_count": 25,
   "metadata": {},
   "outputs": [],
   "source": [
    "# Correct one FOMC website mistake\n",
    "statements.loc[statements[\"Date\"] == datetime.date(2007, 6, 18), \"Date\"] = datetime.date(2007, 6, 28)\n",
    "statements.sort_values(by='Date', inplace=True)\n",
    "# Change a weekend to the latest business date\n",
    "statements.loc[statements[\"Date\"] == datetime.date(2010, 5, 9), \"Date\"] = datetime.date(2010, 5, 7)"
   ]
  },
  {
   "cell_type": "code",
   "execution_count": 26,
   "metadata": {},
   "outputs": [
    {
     "data": {
      "text/plain": [
       "[<matplotlib.lines.Line2D at 0x11d2fb5f8>]"
      ]
     },
     "execution_count": 26,
     "metadata": {},
     "output_type": "execute_result"
    },
    {
     "data": {
      "image/png": "[encoded data removed]",
      "text/plain": [
       "<matplotlib.figure.Figure at 0x11d2f39b0>"
      ]
     },
     "metadata": {
      "needs_background": "light"
     },
     "output_type": "display_data"
    }
   ],
   "source": [
    "plt.plot(yields[\"Date\"],yields[\"10 YR\"] - yields[\"3 MO\"])"
   ]
  },
  {
   "cell_type": "code",
   "execution_count": 27,
   "metadata": {},
   "outputs": [],
   "source": [
    "result = pd.merge(yields, statements, on='Date', how='left')\n",
    "result['10YR_3MO'] = result['10 YR']-result['3 MO']\n",
    "result['d3MO'] = result['3 MO'].diff()\n",
    "result['d_structure'] = result['10YR_3MO'].diff()"
   ]
  },
  {
   "cell_type": "code",
   "execution_count": 28,
   "metadata": {},
   "outputs": [
    {
     "data": {
      "text/html": [
       "<div>\n",
       "<style scoped>\n",
       "    .dataframe tbody tr th:only-of-type {\n",
       "        vertical-align: middle;\n",
       "    }\n",
       "\n",
       "    .dataframe tbody tr th {\n",
       "        vertical-align: top;\n",
       "    }\n",
       "\n",
       "    .dataframe thead th {\n",
       "        text-align: right;\n",
       "    }\n",
       "</style>\n",
       "<table border=\"1\" class=\"dataframe\">\n",
       "  <thead>\n",
       "    <tr style=\"text-align: right;\">\n",
       "      <th></th>\n",
       "      <th>Date</th>\n",
       "      <th>1 MO</th>\n",
       "      <th>3 MO</th>\n",
       "      <th>6 MO</th>\n",
       "      <th>1 YR</th>\n",
       "      <th>2 YR</th>\n",
       "      <th>3 YR</th>\n",
       "      <th>5 YR</th>\n",
       "      <th>7 YR</th>\n",
       "      <th>10 YR</th>\n",
       "      <th>20 YR</th>\n",
       "      <th>30 YR</th>\n",
       "      <th>Statement</th>\n",
       "      <th>10YR_3MO</th>\n",
       "      <th>d3MO</th>\n",
       "      <th>d_structure</th>\n",
       "    </tr>\n",
       "  </thead>\n",
       "  <tbody>\n",
       "    <tr>\n",
       "      <th>0</th>\n",
       "      <td>1990-01-02</td>\n",
       "      <td>NaN</td>\n",
       "      <td>7.83</td>\n",
       "      <td>7.89</td>\n",
       "      <td>7.81</td>\n",
       "      <td>7.87</td>\n",
       "      <td>7.90</td>\n",
       "      <td>7.87</td>\n",
       "      <td>7.98</td>\n",
       "      <td>7.94</td>\n",
       "      <td>NaN</td>\n",
       "      <td>8.00</td>\n",
       "      <td>NaN</td>\n",
       "      <td>0.11</td>\n",
       "      <td>NaN</td>\n",
       "      <td>NaN</td>\n",
       "    </tr>\n",
       "    <tr>\n",
       "      <th>1</th>\n",
       "      <td>1990-01-03</td>\n",
       "      <td>NaN</td>\n",
       "      <td>7.89</td>\n",
       "      <td>7.94</td>\n",
       "      <td>7.85</td>\n",
       "      <td>7.94</td>\n",
       "      <td>7.96</td>\n",
       "      <td>7.92</td>\n",
       "      <td>8.04</td>\n",
       "      <td>7.99</td>\n",
       "      <td>NaN</td>\n",
       "      <td>8.04</td>\n",
       "      <td>NaN</td>\n",
       "      <td>0.10</td>\n",
       "      <td>0.06</td>\n",
       "      <td>-0.01</td>\n",
       "    </tr>\n",
       "    <tr>\n",
       "      <th>2</th>\n",
       "      <td>1990-01-04</td>\n",
       "      <td>NaN</td>\n",
       "      <td>7.84</td>\n",
       "      <td>7.90</td>\n",
       "      <td>7.82</td>\n",
       "      <td>7.92</td>\n",
       "      <td>7.93</td>\n",
       "      <td>7.91</td>\n",
       "      <td>8.02</td>\n",
       "      <td>7.98</td>\n",
       "      <td>NaN</td>\n",
       "      <td>8.04</td>\n",
       "      <td>NaN</td>\n",
       "      <td>0.14</td>\n",
       "      <td>-0.05</td>\n",
       "      <td>0.04</td>\n",
       "    </tr>\n",
       "    <tr>\n",
       "      <th>3</th>\n",
       "      <td>1990-01-05</td>\n",
       "      <td>NaN</td>\n",
       "      <td>7.79</td>\n",
       "      <td>7.85</td>\n",
       "      <td>7.79</td>\n",
       "      <td>7.90</td>\n",
       "      <td>7.94</td>\n",
       "      <td>7.92</td>\n",
       "      <td>8.03</td>\n",
       "      <td>7.99</td>\n",
       "      <td>NaN</td>\n",
       "      <td>8.06</td>\n",
       "      <td>NaN</td>\n",
       "      <td>0.20</td>\n",
       "      <td>-0.05</td>\n",
       "      <td>0.06</td>\n",
       "    </tr>\n",
       "    <tr>\n",
       "      <th>4</th>\n",
       "      <td>1990-01-08</td>\n",
       "      <td>NaN</td>\n",
       "      <td>7.79</td>\n",
       "      <td>7.88</td>\n",
       "      <td>7.81</td>\n",
       "      <td>7.90</td>\n",
       "      <td>7.95</td>\n",
       "      <td>7.92</td>\n",
       "      <td>8.05</td>\n",
       "      <td>8.02</td>\n",
       "      <td>NaN</td>\n",
       "      <td>8.09</td>\n",
       "      <td>NaN</td>\n",
       "      <td>0.23</td>\n",
       "      <td>0.00</td>\n",
       "      <td>0.03</td>\n",
       "    </tr>\n",
       "    <tr>\n",
       "      <th>5</th>\n",
       "      <td>1990-01-09</td>\n",
       "      <td>NaN</td>\n",
       "      <td>7.80</td>\n",
       "      <td>7.82</td>\n",
       "      <td>7.78</td>\n",
       "      <td>7.91</td>\n",
       "      <td>7.94</td>\n",
       "      <td>7.92</td>\n",
       "      <td>8.05</td>\n",
       "      <td>8.02</td>\n",
       "      <td>NaN</td>\n",
       "      <td>8.10</td>\n",
       "      <td>NaN</td>\n",
       "      <td>0.22</td>\n",
       "      <td>0.01</td>\n",
       "      <td>-0.01</td>\n",
       "    </tr>\n",
       "    <tr>\n",
       "      <th>6</th>\n",
       "      <td>1990-01-10</td>\n",
       "      <td>NaN</td>\n",
       "      <td>7.75</td>\n",
       "      <td>7.78</td>\n",
       "      <td>7.77</td>\n",
       "      <td>7.91</td>\n",
       "      <td>7.95</td>\n",
       "      <td>7.92</td>\n",
       "      <td>8.00</td>\n",
       "      <td>8.03</td>\n",
       "      <td>NaN</td>\n",
       "      <td>8.11</td>\n",
       "      <td>NaN</td>\n",
       "      <td>0.28</td>\n",
       "      <td>-0.05</td>\n",
       "      <td>0.06</td>\n",
       "    </tr>\n",
       "    <tr>\n",
       "      <th>7</th>\n",
       "      <td>1990-01-11</td>\n",
       "      <td>NaN</td>\n",
       "      <td>7.80</td>\n",
       "      <td>7.80</td>\n",
       "      <td>7.77</td>\n",
       "      <td>7.91</td>\n",
       "      <td>7.95</td>\n",
       "      <td>7.94</td>\n",
       "      <td>8.01</td>\n",
       "      <td>8.04</td>\n",
       "      <td>NaN</td>\n",
       "      <td>8.11</td>\n",
       "      <td>NaN</td>\n",
       "      <td>0.24</td>\n",
       "      <td>0.05</td>\n",
       "      <td>-0.04</td>\n",
       "    </tr>\n",
       "    <tr>\n",
       "      <th>8</th>\n",
       "      <td>1990-01-12</td>\n",
       "      <td>NaN</td>\n",
       "      <td>7.74</td>\n",
       "      <td>7.81</td>\n",
       "      <td>7.76</td>\n",
       "      <td>7.93</td>\n",
       "      <td>7.98</td>\n",
       "      <td>7.99</td>\n",
       "      <td>8.07</td>\n",
       "      <td>8.10</td>\n",
       "      <td>NaN</td>\n",
       "      <td>8.17</td>\n",
       "      <td>NaN</td>\n",
       "      <td>0.36</td>\n",
       "      <td>-0.06</td>\n",
       "      <td>0.12</td>\n",
       "    </tr>\n",
       "    <tr>\n",
       "      <th>9</th>\n",
       "      <td>1990-01-16</td>\n",
       "      <td>NaN</td>\n",
       "      <td>7.89</td>\n",
       "      <td>7.99</td>\n",
       "      <td>7.92</td>\n",
       "      <td>8.10</td>\n",
       "      <td>8.13</td>\n",
       "      <td>8.11</td>\n",
       "      <td>8.18</td>\n",
       "      <td>8.20</td>\n",
       "      <td>NaN</td>\n",
       "      <td>8.25</td>\n",
       "      <td>NaN</td>\n",
       "      <td>0.31</td>\n",
       "      <td>0.15</td>\n",
       "      <td>-0.05</td>\n",
       "    </tr>\n",
       "  </tbody>\n",
       "</table>\n",
       "</div>"
      ],
      "text/plain": [
       "        Date  1 MO  3 MO  6 MO  1 YR  2 YR  3 YR  5 YR  7 YR  10 YR  20 YR  \\\n",
       "0 1990-01-02   NaN  7.83  7.89  7.81  7.87  7.90  7.87  7.98   7.94    NaN   \n",
       "1 1990-01-03   NaN  7.89  7.94  7.85  7.94  7.96  7.92  8.04   7.99    NaN   \n",
       "2 1990-01-04   NaN  7.84  7.90  7.82  7.92  7.93  7.91  8.02   7.98    NaN   \n",
       "3 1990-01-05   NaN  7.79  7.85  7.79  7.90  7.94  7.92  8.03   7.99    NaN   \n",
       "4 1990-01-08   NaN  7.79  7.88  7.81  7.90  7.95  7.92  8.05   8.02    NaN   \n",
       "5 1990-01-09   NaN  7.80  7.82  7.78  7.91  7.94  7.92  8.05   8.02    NaN   \n",
       "6 1990-01-10   NaN  7.75  7.78  7.77  7.91  7.95  7.92  8.00   8.03    NaN   \n",
       "7 1990-01-11   NaN  7.80  7.80  7.77  7.91  7.95  7.94  8.01   8.04    NaN   \n",
       "8 1990-01-12   NaN  7.74  7.81  7.76  7.93  7.98  7.99  8.07   8.10    NaN   \n",
       "9 1990-01-16   NaN  7.89  7.99  7.92  8.10  8.13  8.11  8.18   8.20    NaN   \n",
       "\n",
       "   30 YR Statement  10YR_3MO  d3MO  d_structure  \n",
       "0   8.00       NaN      0.11   NaN          NaN  \n",
       "1   8.04       NaN      0.10  0.06        -0.01  \n",
       "2   8.04       NaN      0.14 -0.05         0.04  \n",
       "3   8.06       NaN      0.20 -0.05         0.06  \n",
       "4   8.09       NaN      0.23  0.00         0.03  \n",
       "5   8.10       NaN      0.22  0.01        -0.01  \n",
       "6   8.11       NaN      0.28 -0.05         0.06  \n",
       "7   8.11       NaN      0.24  0.05        -0.04  \n",
       "8   8.17       NaN      0.36 -0.06         0.12  \n",
       "9   8.25       NaN      0.31  0.15        -0.05  "
      ]
     },
     "execution_count": 28,
     "metadata": {},
     "output_type": "execute_result"
    }
   ],
   "source": [
    "result.head(10)"
   ]
  },
  {
   "cell_type": "code",
   "execution_count": 29,
   "metadata": {},
   "outputs": [
    {
     "data": {
      "text/html": [
       "<div>\n",
       "<style scoped>\n",
       "    .dataframe tbody tr th:only-of-type {\n",
       "        vertical-align: middle;\n",
       "    }\n",
       "\n",
       "    .dataframe tbody tr th {\n",
       "        vertical-align: top;\n",
       "    }\n",
       "\n",
       "    .dataframe thead th {\n",
       "        text-align: right;\n",
       "    }\n",
       "</style>\n",
       "<table border=\"1\" class=\"dataframe\">\n",
       "  <thead>\n",
       "    <tr style=\"text-align: right;\">\n",
       "      <th></th>\n",
       "      <th>Date</th>\n",
       "      <th>1 MO</th>\n",
       "      <th>3 MO</th>\n",
       "      <th>6 MO</th>\n",
       "      <th>1 YR</th>\n",
       "      <th>2 YR</th>\n",
       "      <th>3 YR</th>\n",
       "      <th>5 YR</th>\n",
       "      <th>7 YR</th>\n",
       "      <th>10 YR</th>\n",
       "      <th>20 YR</th>\n",
       "      <th>30 YR</th>\n",
       "      <th>Statement</th>\n",
       "      <th>10YR_3MO</th>\n",
       "      <th>d3MO</th>\n",
       "      <th>d_structure</th>\n",
       "    </tr>\n",
       "  </thead>\n",
       "  <tbody>\n",
       "    <tr>\n",
       "      <th>1024</th>\n",
       "      <td>1994-02-04</td>\n",
       "      <td>NaN</td>\n",
       "      <td>3.30</td>\n",
       "      <td>3.49</td>\n",
       "      <td>3.84</td>\n",
       "      <td>4.42</td>\n",
       "      <td>4.75</td>\n",
       "      <td>5.32</td>\n",
       "      <td>5.62</td>\n",
       "      <td>5.94</td>\n",
       "      <td>6.49</td>\n",
       "      <td>6.37</td>\n",
       "      <td>Chairman Alan Greenspan announced today that t...</td>\n",
       "      <td>2.64</td>\n",
       "      <td>0.10</td>\n",
       "      <td>0.03</td>\n",
       "    </tr>\n",
       "    <tr>\n",
       "      <th>1055</th>\n",
       "      <td>1994-03-22</td>\n",
       "      <td>NaN</td>\n",
       "      <td>3.60</td>\n",
       "      <td>3.94</td>\n",
       "      <td>4.33</td>\n",
       "      <td>5.03</td>\n",
       "      <td>5.38</td>\n",
       "      <td>5.92</td>\n",
       "      <td>6.24</td>\n",
       "      <td>6.44</td>\n",
       "      <td>6.94</td>\n",
       "      <td>6.85</td>\n",
       "      <td>Chairman Alan Greenspan announced today that t...</td>\n",
       "      <td>2.84</td>\n",
       "      <td>-0.10</td>\n",
       "      <td>-0.01</td>\n",
       "    </tr>\n",
       "    <tr>\n",
       "      <th>1093</th>\n",
       "      <td>1994-05-17</td>\n",
       "      <td>NaN</td>\n",
       "      <td>4.30</td>\n",
       "      <td>4.77</td>\n",
       "      <td>5.29</td>\n",
       "      <td>5.88</td>\n",
       "      <td>6.23</td>\n",
       "      <td>6.66</td>\n",
       "      <td>6.85</td>\n",
       "      <td>7.03</td>\n",
       "      <td>7.39</td>\n",
       "      <td>7.27</td>\n",
       "      <td>The Federal Reserve today announced two action...</td>\n",
       "      <td>2.73</td>\n",
       "      <td>-0.01</td>\n",
       "      <td>-0.20</td>\n",
       "    </tr>\n",
       "    <tr>\n",
       "      <th>1156</th>\n",
       "      <td>1994-08-16</td>\n",
       "      <td>NaN</td>\n",
       "      <td>4.74</td>\n",
       "      <td>5.17</td>\n",
       "      <td>5.62</td>\n",
       "      <td>6.21</td>\n",
       "      <td>6.52</td>\n",
       "      <td>6.86</td>\n",
       "      <td>7.02</td>\n",
       "      <td>7.19</td>\n",
       "      <td>7.56</td>\n",
       "      <td>7.39</td>\n",
       "      <td>The Federal Reserve announced today the follow...</td>\n",
       "      <td>2.45</td>\n",
       "      <td>0.02</td>\n",
       "      <td>-0.13</td>\n",
       "    </tr>\n",
       "    <tr>\n",
       "      <th>1218</th>\n",
       "      <td>1994-11-15</td>\n",
       "      <td>NaN</td>\n",
       "      <td>5.53</td>\n",
       "      <td>6.03</td>\n",
       "      <td>6.55</td>\n",
       "      <td>7.10</td>\n",
       "      <td>7.41</td>\n",
       "      <td>7.69</td>\n",
       "      <td>7.78</td>\n",
       "      <td>7.92</td>\n",
       "      <td>8.15</td>\n",
       "      <td>8.05</td>\n",
       "      <td>The Federal Reserve Board today approved an in...</td>\n",
       "      <td>2.39</td>\n",
       "      <td>0.07</td>\n",
       "      <td>-0.09</td>\n",
       "    </tr>\n",
       "    <tr>\n",
       "      <th>1270</th>\n",
       "      <td>1995-02-01</td>\n",
       "      <td>NaN</td>\n",
       "      <td>6.07</td>\n",
       "      <td>6.49</td>\n",
       "      <td>6.97</td>\n",
       "      <td>7.33</td>\n",
       "      <td>7.44</td>\n",
       "      <td>7.56</td>\n",
       "      <td>7.65</td>\n",
       "      <td>7.66</td>\n",
       "      <td>7.85</td>\n",
       "      <td>7.75</td>\n",
       "      <td>The Federal Reserve Board today approved an in...</td>\n",
       "      <td>1.59</td>\n",
       "      <td>0.07</td>\n",
       "      <td>-0.01</td>\n",
       "    </tr>\n",
       "    <tr>\n",
       "      <th>1377</th>\n",
       "      <td>1995-07-06</td>\n",
       "      <td>NaN</td>\n",
       "      <td>5.53</td>\n",
       "      <td>5.50</td>\n",
       "      <td>5.43</td>\n",
       "      <td>5.56</td>\n",
       "      <td>5.64</td>\n",
       "      <td>5.75</td>\n",
       "      <td>5.97</td>\n",
       "      <td>6.05</td>\n",
       "      <td>6.53</td>\n",
       "      <td>6.51</td>\n",
       "      <td>Chairman Alan Greenspan announced today that t...</td>\n",
       "      <td>0.52</td>\n",
       "      <td>-0.15</td>\n",
       "      <td>0.01</td>\n",
       "    </tr>\n",
       "    <tr>\n",
       "      <th>1492</th>\n",
       "      <td>1995-12-19</td>\n",
       "      <td>NaN</td>\n",
       "      <td>5.24</td>\n",
       "      <td>5.31</td>\n",
       "      <td>5.28</td>\n",
       "      <td>5.36</td>\n",
       "      <td>5.45</td>\n",
       "      <td>5.58</td>\n",
       "      <td>5.71</td>\n",
       "      <td>5.81</td>\n",
       "      <td>6.21</td>\n",
       "      <td>6.14</td>\n",
       "      <td>Chairman Alan Greenspan announced today that t...</td>\n",
       "      <td>0.57</td>\n",
       "      <td>-0.08</td>\n",
       "      <td>0.04</td>\n",
       "    </tr>\n",
       "    <tr>\n",
       "      <th>1520</th>\n",
       "      <td>1996-01-31</td>\n",
       "      <td>NaN</td>\n",
       "      <td>5.05</td>\n",
       "      <td>4.97</td>\n",
       "      <td>4.90</td>\n",
       "      <td>4.93</td>\n",
       "      <td>5.06</td>\n",
       "      <td>5.25</td>\n",
       "      <td>5.46</td>\n",
       "      <td>5.60</td>\n",
       "      <td>6.07</td>\n",
       "      <td>6.03</td>\n",
       "      <td>The Federal Reserve today announced the follow...</td>\n",
       "      <td>0.55</td>\n",
       "      <td>-0.09</td>\n",
       "      <td>0.06</td>\n",
       "    </tr>\n",
       "    <tr>\n",
       "      <th>1808</th>\n",
       "      <td>1997-03-25</td>\n",
       "      <td>NaN</td>\n",
       "      <td>5.44</td>\n",
       "      <td>5.60</td>\n",
       "      <td>5.91</td>\n",
       "      <td>6.33</td>\n",
       "      <td>6.48</td>\n",
       "      <td>6.63</td>\n",
       "      <td>6.72</td>\n",
       "      <td>6.75</td>\n",
       "      <td>7.07</td>\n",
       "      <td>6.95</td>\n",
       "      <td>The Federal Open Market Committee decided toda...</td>\n",
       "      <td>1.31</td>\n",
       "      <td>0.04</td>\n",
       "      <td>-0.01</td>\n",
       "    </tr>\n",
       "  </tbody>\n",
       "</table>\n",
       "</div>"
      ],
      "text/plain": [
       "           Date  1 MO  3 MO  6 MO  1 YR  2 YR  3 YR  5 YR  7 YR  10 YR  20 YR  \\\n",
       "1024 1994-02-04   NaN  3.30  3.49  3.84  4.42  4.75  5.32  5.62   5.94   6.49   \n",
       "1055 1994-03-22   NaN  3.60  3.94  4.33  5.03  5.38  5.92  6.24   6.44   6.94   \n",
       "1093 1994-05-17   NaN  4.30  4.77  5.29  5.88  6.23  6.66  6.85   7.03   7.39   \n",
       "1156 1994-08-16   NaN  4.74  5.17  5.62  6.21  6.52  6.86  7.02   7.19   7.56   \n",
       "1218 1994-11-15   NaN  5.53  6.03  6.55  7.10  7.41  7.69  7.78   7.92   8.15   \n",
       "1270 1995-02-01   NaN  6.07  6.49  6.97  7.33  7.44  7.56  7.65   7.66   7.85   \n",
       "1377 1995-07-06   NaN  5.53  5.50  5.43  5.56  5.64  5.75  5.97   6.05   6.53   \n",
       "1492 1995-12-19   NaN  5.24  5.31  5.28  5.36  5.45  5.58  5.71   5.81   6.21   \n",
       "1520 1996-01-31   NaN  5.05  4.97  4.90  4.93  5.06  5.25  5.46   5.60   6.07   \n",
       "1808 1997-03-25   NaN  5.44  5.60  5.91  6.33  6.48  6.63  6.72   6.75   7.07   \n",
       "\n",
       "      30 YR                                          Statement  10YR_3MO  \\\n",
       "1024   6.37  Chairman Alan Greenspan announced today that t...      2.64   \n",
       "1055   6.85  Chairman Alan Greenspan announced today that t...      2.84   \n",
       "1093   7.27  The Federal Reserve today announced two action...      2.73   \n",
       "1156   7.39  The Federal Reserve announced today the follow...      2.45   \n",
       "1218   8.05  The Federal Reserve Board today approved an in...      2.39   \n",
       "1270   7.75  The Federal Reserve Board today approved an in...      1.59   \n",
       "1377   6.51  Chairman Alan Greenspan announced today that t...      0.52   \n",
       "1492   6.14  Chairman Alan Greenspan announced today that t...      0.57   \n",
       "1520   6.03  The Federal Reserve today announced the follow...      0.55   \n",
       "1808   6.95  The Federal Open Market Committee decided toda...      1.31   \n",
       "\n",
       "      d3MO  d_structure  \n",
       "1024  0.10         0.03  \n",
       "1055 -0.10        -0.01  \n",
       "1093 -0.01        -0.20  \n",
       "1156  0.02        -0.13  \n",
       "1218  0.07        -0.09  \n",
       "1270  0.07        -0.01  \n",
       "1377 -0.15         0.01  \n",
       "1492 -0.08         0.04  \n",
       "1520 -0.09         0.06  \n",
       "1808  0.04        -0.01  "
      ]
     },
     "execution_count": 29,
     "metadata": {},
     "output_type": "execute_result"
    }
   ],
   "source": [
    "result[result['Statement'].notnull()].head(10)"
   ]
  },
  {
   "cell_type": "code",
   "execution_count": 30,
   "metadata": {},
   "outputs": [],
   "source": [
    "# generate rates movement for each release date\n",
    "myDates = result[result['Statement'].notnull()]['Date']\n",
    "window = 3 # business days\n",
    "for i in range(len(myDates)):\n",
    "    start_index = myDates.index[i]\n",
    "    if i == len(myDates) - 1:\n",
    "        policy_interim = np.inf\n",
    "    else: \n",
    "        policy_interim = myDates.index[i+1] - myDates.index[i]\n",
    "    sub_result = result.iloc[start_index:min(start_index+window,start_index+policy_interim)]\n",
    "    result.loc[result[\"Date\"] == myDates.iloc[i], \"3MO_move\"] = sub_result['d3MO'].sum()\n",
    "    result.loc[result[\"Date\"] == myDates.iloc[i], \"3MO_std\"] = sub_result['d3MO'].std()\n",
    "    result.loc[result[\"Date\"] == myDates.iloc[i], \"structure_move\"] = sub_result['d_structure'].sum()\n",
    "    result.loc[result[\"Date\"] == myDates.iloc[i], \"structure_std\"] = sub_result['d_structure'].std()"
   ]
  },
  {
   "cell_type": "code",
   "execution_count": 31,
   "metadata": {},
   "outputs": [
    {
     "data": {
      "text/html": [
       "<div>\n",
       "<style scoped>\n",
       "    .dataframe tbody tr th:only-of-type {\n",
       "        vertical-align: middle;\n",
       "    }\n",
       "\n",
       "    .dataframe tbody tr th {\n",
       "        vertical-align: top;\n",
       "    }\n",
       "\n",
       "    .dataframe thead th {\n",
       "        text-align: right;\n",
       "    }\n",
       "</style>\n",
       "<table border=\"1\" class=\"dataframe\">\n",
       "  <thead>\n",
       "    <tr style=\"text-align: right;\">\n",
       "      <th></th>\n",
       "      <th>Date</th>\n",
       "      <th>1 MO</th>\n",
       "      <th>3 MO</th>\n",
       "      <th>6 MO</th>\n",
       "      <th>1 YR</th>\n",
       "      <th>2 YR</th>\n",
       "      <th>3 YR</th>\n",
       "      <th>5 YR</th>\n",
       "      <th>7 YR</th>\n",
       "      <th>10 YR</th>\n",
       "      <th>20 YR</th>\n",
       "      <th>30 YR</th>\n",
       "      <th>Statement</th>\n",
       "      <th>10YR_3MO</th>\n",
       "      <th>d3MO</th>\n",
       "      <th>d_structure</th>\n",
       "      <th>3MO_move</th>\n",
       "      <th>3MO_std</th>\n",
       "      <th>structure_move</th>\n",
       "      <th>structure_std</th>\n",
       "    </tr>\n",
       "  </thead>\n",
       "  <tbody>\n",
       "    <tr>\n",
       "      <th>1024</th>\n",
       "      <td>1994-02-04</td>\n",
       "      <td>NaN</td>\n",
       "      <td>3.30</td>\n",
       "      <td>3.49</td>\n",
       "      <td>3.84</td>\n",
       "      <td>4.42</td>\n",
       "      <td>4.75</td>\n",
       "      <td>5.32</td>\n",
       "      <td>5.62</td>\n",
       "      <td>5.94</td>\n",
       "      <td>6.49</td>\n",
       "      <td>6.37</td>\n",
       "      <td>Chairman Alan Greenspan announced today that t...</td>\n",
       "      <td>2.64</td>\n",
       "      <td>0.10</td>\n",
       "      <td>0.03</td>\n",
       "      <td>0.12</td>\n",
       "      <td>0.051962</td>\n",
       "      <td>0.08</td>\n",
       "      <td>0.015275</td>\n",
       "    </tr>\n",
       "    <tr>\n",
       "      <th>1055</th>\n",
       "      <td>1994-03-22</td>\n",
       "      <td>NaN</td>\n",
       "      <td>3.60</td>\n",
       "      <td>3.94</td>\n",
       "      <td>4.33</td>\n",
       "      <td>5.03</td>\n",
       "      <td>5.38</td>\n",
       "      <td>5.92</td>\n",
       "      <td>6.24</td>\n",
       "      <td>6.44</td>\n",
       "      <td>6.94</td>\n",
       "      <td>6.85</td>\n",
       "      <td>Chairman Alan Greenspan announced today that t...</td>\n",
       "      <td>2.84</td>\n",
       "      <td>-0.10</td>\n",
       "      <td>-0.01</td>\n",
       "      <td>-0.17</td>\n",
       "      <td>0.045092</td>\n",
       "      <td>0.20</td>\n",
       "      <td>0.080208</td>\n",
       "    </tr>\n",
       "    <tr>\n",
       "      <th>1093</th>\n",
       "      <td>1994-05-17</td>\n",
       "      <td>NaN</td>\n",
       "      <td>4.30</td>\n",
       "      <td>4.77</td>\n",
       "      <td>5.29</td>\n",
       "      <td>5.88</td>\n",
       "      <td>6.23</td>\n",
       "      <td>6.66</td>\n",
       "      <td>6.85</td>\n",
       "      <td>7.03</td>\n",
       "      <td>7.39</td>\n",
       "      <td>7.27</td>\n",
       "      <td>The Federal Reserve today announced two action...</td>\n",
       "      <td>2.73</td>\n",
       "      <td>-0.01</td>\n",
       "      <td>-0.20</td>\n",
       "      <td>-0.07</td>\n",
       "      <td>0.023094</td>\n",
       "      <td>-0.21</td>\n",
       "      <td>0.113578</td>\n",
       "    </tr>\n",
       "    <tr>\n",
       "      <th>1156</th>\n",
       "      <td>1994-08-16</td>\n",
       "      <td>NaN</td>\n",
       "      <td>4.74</td>\n",
       "      <td>5.17</td>\n",
       "      <td>5.62</td>\n",
       "      <td>6.21</td>\n",
       "      <td>6.52</td>\n",
       "      <td>6.86</td>\n",
       "      <td>7.02</td>\n",
       "      <td>7.19</td>\n",
       "      <td>7.56</td>\n",
       "      <td>7.39</td>\n",
       "      <td>The Federal Reserve announced today the follow...</td>\n",
       "      <td>2.45</td>\n",
       "      <td>0.02</td>\n",
       "      <td>-0.13</td>\n",
       "      <td>-0.01</td>\n",
       "      <td>0.040415</td>\n",
       "      <td>-0.01</td>\n",
       "      <td>0.120554</td>\n",
       "    </tr>\n",
       "    <tr>\n",
       "      <th>1218</th>\n",
       "      <td>1994-11-15</td>\n",
       "      <td>NaN</td>\n",
       "      <td>5.53</td>\n",
       "      <td>6.03</td>\n",
       "      <td>6.55</td>\n",
       "      <td>7.10</td>\n",
       "      <td>7.41</td>\n",
       "      <td>7.69</td>\n",
       "      <td>7.78</td>\n",
       "      <td>7.92</td>\n",
       "      <td>8.15</td>\n",
       "      <td>8.05</td>\n",
       "      <td>The Federal Reserve Board today approved an in...</td>\n",
       "      <td>2.39</td>\n",
       "      <td>0.07</td>\n",
       "      <td>-0.09</td>\n",
       "      <td>0.05</td>\n",
       "      <td>0.046188</td>\n",
       "      <td>0.04</td>\n",
       "      <td>0.089629</td>\n",
       "    </tr>\n",
       "  </tbody>\n",
       "</table>\n",
       "</div>"
      ],
      "text/plain": [
       "           Date  1 MO  3 MO  6 MO  1 YR  2 YR  3 YR  5 YR  7 YR  10 YR  20 YR  \\\n",
       "1024 1994-02-04   NaN  3.30  3.49  3.84  4.42  4.75  5.32  5.62   5.94   6.49   \n",
       "1055 1994-03-22   NaN  3.60  3.94  4.33  5.03  5.38  5.92  6.24   6.44   6.94   \n",
       "1093 1994-05-17   NaN  4.30  4.77  5.29  5.88  6.23  6.66  6.85   7.03   7.39   \n",
       "1156 1994-08-16   NaN  4.74  5.17  5.62  6.21  6.52  6.86  7.02   7.19   7.56   \n",
       "1218 1994-11-15   NaN  5.53  6.03  6.55  7.10  7.41  7.69  7.78   7.92   8.15   \n",
       "\n",
       "      30 YR                                          Statement  10YR_3MO  \\\n",
       "1024   6.37  Chairman Alan Greenspan announced today that t...      2.64   \n",
       "1055   6.85  Chairman Alan Greenspan announced today that t...      2.84   \n",
       "1093   7.27  The Federal Reserve today announced two action...      2.73   \n",
       "1156   7.39  The Federal Reserve announced today the follow...      2.45   \n",
       "1218   8.05  The Federal Reserve Board today approved an in...      2.39   \n",
       "\n",
       "      d3MO  d_structure  3MO_move   3MO_std  structure_move  structure_std  \n",
       "1024  0.10         0.03      0.12  0.051962            0.08       0.015275  \n",
       "1055 -0.10        -0.01     -0.17  0.045092            0.20       0.080208  \n",
       "1093 -0.01        -0.20     -0.07  0.023094           -0.21       0.113578  \n",
       "1156  0.02        -0.13     -0.01  0.040415           -0.01       0.120554  \n",
       "1218  0.07        -0.09      0.05  0.046188            0.04       0.089629  "
      ]
     },
     "execution_count": 31,
     "metadata": {},
     "output_type": "execute_result"
    }
   ],
   "source": [
    "out = result[result['Statement'].notnull()]\n",
    "out.head(5)"
   ]
  },
  {
   "cell_type": "code",
   "execution_count": 32,
   "metadata": {},
   "outputs": [
    {
     "data": {
      "text/plain": [
       "[<matplotlib.lines.Line2D at 0x12a872128>]"
      ]
     },
     "execution_count": 32,
     "metadata": {},
     "output_type": "execute_result"
    },
    {
     "data": {
      "image/png": "[encoded data removed]",
      "text/plain": [
       "<matplotlib.figure.Figure at 0x12ad89e80>"
      ]
     },
     "metadata": {
      "needs_background": "light"
     },
     "output_type": "display_data"
    }
   ],
   "source": [
    "plt.plot(out['3MO_move'], out['3MO_std'],'*')"
   ]
  },
  {
   "cell_type": "code",
   "execution_count": 33,
   "metadata": {
    "scrolled": true
   },
   "outputs": [
    {
     "data": {
      "text/plain": [
       "[<matplotlib.lines.Line2D at 0x12ada0860>]"
      ]
     },
     "execution_count": 33,
     "metadata": {},
     "output_type": "execute_result"
    },
    {
     "data": {
      "image/png": "[encoded data removed]",
      "text/plain": [
       "<matplotlib.figure.Figure at 0x12a8432b0>"
      ]
     },
     "metadata": {
      "needs_background": "light"
     },
     "output_type": "display_data"
    }
   ],
   "source": [
    "plt.plot(out['structure_move'], np.log(out['structure_std']),'.')"
   ]
  },
  {
   "cell_type": "code",
   "execution_count": 34,
   "metadata": {},
   "outputs": [
    {
     "name": "stderr",
     "output_type": "stream",
     "text": [
      "/Users/fohanlin/PycharmProjects/w266NLP/venv/lib/python3.6/site-packages/ipykernel_launcher.py:1: SettingWithCopyWarning: \n",
      "A value is trying to be set on a copy of a slice from a DataFrame.\n",
      "Try using .loc[row_indexer,col_indexer] = value instead\n",
      "\n",
      "See the caveats in the documentation: http://pandas.pydata.org/pandas-docs/stable/indexing.html#indexing-view-versus-copy\n",
      "  \"\"\"Entry point for launching an IPython kernel.\n",
      "/Users/fohanlin/PycharmProjects/w266NLP/venv/lib/python3.6/site-packages/ipykernel_launcher.py:2: SettingWithCopyWarning: \n",
      "A value is trying to be set on a copy of a slice from a DataFrame.\n",
      "Try using .loc[row_indexer,col_indexer] = value instead\n",
      "\n",
      "See the caveats in the documentation: http://pandas.pydata.org/pandas-docs/stable/indexing.html#indexing-view-versus-copy\n",
      "  \n"
     ]
    }
   ],
   "source": [
    "out['3MO_label'] = out['3MO_move'] > 0\n",
    "out['structure_label'] = out['structure_move'] > 0"
   ]
  },
  {
   "cell_type": "code",
   "execution_count": 35,
   "metadata": {},
   "outputs": [
    {
     "data": {
      "text/html": [
       "<div>\n",
       "<style scoped>\n",
       "    .dataframe tbody tr th:only-of-type {\n",
       "        vertical-align: middle;\n",
       "    }\n",
       "\n",
       "    .dataframe tbody tr th {\n",
       "        vertical-align: top;\n",
       "    }\n",
       "\n",
       "    .dataframe thead th {\n",
       "        text-align: right;\n",
       "    }\n",
       "</style>\n",
       "<table border=\"1\" class=\"dataframe\">\n",
       "  <thead>\n",
       "    <tr style=\"text-align: right;\">\n",
       "      <th></th>\n",
       "      <th>Date</th>\n",
       "      <th>1 MO</th>\n",
       "      <th>3 MO</th>\n",
       "      <th>6 MO</th>\n",
       "      <th>1 YR</th>\n",
       "      <th>2 YR</th>\n",
       "      <th>3 YR</th>\n",
       "      <th>5 YR</th>\n",
       "      <th>7 YR</th>\n",
       "      <th>10 YR</th>\n",
       "      <th>...</th>\n",
       "      <th>Statement</th>\n",
       "      <th>10YR_3MO</th>\n",
       "      <th>d3MO</th>\n",
       "      <th>d_structure</th>\n",
       "      <th>3MO_move</th>\n",
       "      <th>3MO_std</th>\n",
       "      <th>structure_move</th>\n",
       "      <th>structure_std</th>\n",
       "      <th>3MO_label</th>\n",
       "      <th>structure_label</th>\n",
       "    </tr>\n",
       "  </thead>\n",
       "  <tbody>\n",
       "    <tr>\n",
       "      <th>1024</th>\n",
       "      <td>1994-02-04</td>\n",
       "      <td>NaN</td>\n",
       "      <td>3.30</td>\n",
       "      <td>3.49</td>\n",
       "      <td>3.84</td>\n",
       "      <td>4.42</td>\n",
       "      <td>4.75</td>\n",
       "      <td>5.32</td>\n",
       "      <td>5.62</td>\n",
       "      <td>5.94</td>\n",
       "      <td>...</td>\n",
       "      <td>Chairman Alan Greenspan announced today that t...</td>\n",
       "      <td>2.64</td>\n",
       "      <td>0.10</td>\n",
       "      <td>0.03</td>\n",
       "      <td>0.12</td>\n",
       "      <td>0.051962</td>\n",
       "      <td>0.08</td>\n",
       "      <td>0.015275</td>\n",
       "      <td>True</td>\n",
       "      <td>True</td>\n",
       "    </tr>\n",
       "    <tr>\n",
       "      <th>1055</th>\n",
       "      <td>1994-03-22</td>\n",
       "      <td>NaN</td>\n",
       "      <td>3.60</td>\n",
       "      <td>3.94</td>\n",
       "      <td>4.33</td>\n",
       "      <td>5.03</td>\n",
       "      <td>5.38</td>\n",
       "      <td>5.92</td>\n",
       "      <td>6.24</td>\n",
       "      <td>6.44</td>\n",
       "      <td>...</td>\n",
       "      <td>Chairman Alan Greenspan announced today that t...</td>\n",
       "      <td>2.84</td>\n",
       "      <td>-0.10</td>\n",
       "      <td>-0.01</td>\n",
       "      <td>-0.17</td>\n",
       "      <td>0.045092</td>\n",
       "      <td>0.20</td>\n",
       "      <td>0.080208</td>\n",
       "      <td>False</td>\n",
       "      <td>True</td>\n",
       "    </tr>\n",
       "    <tr>\n",
       "      <th>1093</th>\n",
       "      <td>1994-05-17</td>\n",
       "      <td>NaN</td>\n",
       "      <td>4.30</td>\n",
       "      <td>4.77</td>\n",
       "      <td>5.29</td>\n",
       "      <td>5.88</td>\n",
       "      <td>6.23</td>\n",
       "      <td>6.66</td>\n",
       "      <td>6.85</td>\n",
       "      <td>7.03</td>\n",
       "      <td>...</td>\n",
       "      <td>The Federal Reserve today announced two action...</td>\n",
       "      <td>2.73</td>\n",
       "      <td>-0.01</td>\n",
       "      <td>-0.20</td>\n",
       "      <td>-0.07</td>\n",
       "      <td>0.023094</td>\n",
       "      <td>-0.21</td>\n",
       "      <td>0.113578</td>\n",
       "      <td>False</td>\n",
       "      <td>False</td>\n",
       "    </tr>\n",
       "    <tr>\n",
       "      <th>1156</th>\n",
       "      <td>1994-08-16</td>\n",
       "      <td>NaN</td>\n",
       "      <td>4.74</td>\n",
       "      <td>5.17</td>\n",
       "      <td>5.62</td>\n",
       "      <td>6.21</td>\n",
       "      <td>6.52</td>\n",
       "      <td>6.86</td>\n",
       "      <td>7.02</td>\n",
       "      <td>7.19</td>\n",
       "      <td>...</td>\n",
       "      <td>The Federal Reserve announced today the follow...</td>\n",
       "      <td>2.45</td>\n",
       "      <td>0.02</td>\n",
       "      <td>-0.13</td>\n",
       "      <td>-0.01</td>\n",
       "      <td>0.040415</td>\n",
       "      <td>-0.01</td>\n",
       "      <td>0.120554</td>\n",
       "      <td>False</td>\n",
       "      <td>False</td>\n",
       "    </tr>\n",
       "    <tr>\n",
       "      <th>1218</th>\n",
       "      <td>1994-11-15</td>\n",
       "      <td>NaN</td>\n",
       "      <td>5.53</td>\n",
       "      <td>6.03</td>\n",
       "      <td>6.55</td>\n",
       "      <td>7.10</td>\n",
       "      <td>7.41</td>\n",
       "      <td>7.69</td>\n",
       "      <td>7.78</td>\n",
       "      <td>7.92</td>\n",
       "      <td>...</td>\n",
       "      <td>The Federal Reserve Board today approved an in...</td>\n",
       "      <td>2.39</td>\n",
       "      <td>0.07</td>\n",
       "      <td>-0.09</td>\n",
       "      <td>0.05</td>\n",
       "      <td>0.046188</td>\n",
       "      <td>0.04</td>\n",
       "      <td>0.089629</td>\n",
       "      <td>True</td>\n",
       "      <td>True</td>\n",
       "    </tr>\n",
       "  </tbody>\n",
       "</table>\n",
       "<p>5 rows × 22 columns</p>\n",
       "</div>"
      ],
      "text/plain": [
       "           Date  1 MO  3 MO  6 MO  1 YR  2 YR  3 YR  5 YR  7 YR  10 YR  \\\n",
       "1024 1994-02-04   NaN  3.30  3.49  3.84  4.42  4.75  5.32  5.62   5.94   \n",
       "1055 1994-03-22   NaN  3.60  3.94  4.33  5.03  5.38  5.92  6.24   6.44   \n",
       "1093 1994-05-17   NaN  4.30  4.77  5.29  5.88  6.23  6.66  6.85   7.03   \n",
       "1156 1994-08-16   NaN  4.74  5.17  5.62  6.21  6.52  6.86  7.02   7.19   \n",
       "1218 1994-11-15   NaN  5.53  6.03  6.55  7.10  7.41  7.69  7.78   7.92   \n",
       "\n",
       "           ...                                                 Statement  \\\n",
       "1024       ...         Chairman Alan Greenspan announced today that t...   \n",
       "1055       ...         Chairman Alan Greenspan announced today that t...   \n",
       "1093       ...         The Federal Reserve today announced two action...   \n",
       "1156       ...         The Federal Reserve announced today the follow...   \n",
       "1218       ...         The Federal Reserve Board today approved an in...   \n",
       "\n",
       "      10YR_3MO  d3MO  d_structure  3MO_move   3MO_std  structure_move  \\\n",
       "1024      2.64  0.10         0.03      0.12  0.051962            0.08   \n",
       "1055      2.84 -0.10        -0.01     -0.17  0.045092            0.20   \n",
       "1093      2.73 -0.01        -0.20     -0.07  0.023094           -0.21   \n",
       "1156      2.45  0.02        -0.13     -0.01  0.040415           -0.01   \n",
       "1218      2.39  0.07        -0.09      0.05  0.046188            0.04   \n",
       "\n",
       "      structure_std  3MO_label  structure_label  \n",
       "1024       0.015275       True             True  \n",
       "1055       0.080208      False             True  \n",
       "1093       0.113578      False            False  \n",
       "1156       0.120554      False            False  \n",
       "1218       0.089629       True             True  \n",
       "\n",
       "[5 rows x 22 columns]"
      ]
     },
     "execution_count": 35,
     "metadata": {},
     "output_type": "execute_result"
    }
   ],
   "source": [
    "out.head()"
   ]
  },
  {
   "cell_type": "markdown",
   "metadata": {},
   "source": [
    "# Model"
   ]
  },
  {
   "cell_type": "code",
   "execution_count": 36,
   "metadata": {},
   "outputs": [
    {
     "name": "stdout",
     "output_type": "stream",
     "text": [
      "(184, 1682)\n"
     ]
    }
   ],
   "source": [
    "# Identify labels\n",
    "y = out['structure_label'] #out['3MO_label']\n",
    "\n",
    "# Implement Tfid vectorizer\n",
    "vectorizer = text.TfidfVectorizer(stop_words=['about','the','committee', \"ben\", \"geithner\", \"bernanke\", \"timothy\", \"hoenig\", \"thomas\", \"donald\", \"kevin\", \"mishkin\", \"kroszner\", \"kohn\", \"charles\", \"frederic\"])\n",
    "\n",
    "def textfilter(x):\n",
    "    out = re.sub(r'https?:\\/\\/(www\\.)?[-a-zA-Z0-9@:%._\\+~#=]{1,256}\\.[a-zA-Z0-9()]{1,6}\\b([-a-zA-Z0-9()@:%_\\+.~#?&//=]*)', '',x)\n",
    "    out = re.sub(r'\\d+','',x)\n",
    "    return out\n",
    "\n",
    "X = vectorizer.fit_transform(map(textfilter,out['Statement'].values))\n",
    "print(X.shape)"
   ]
  },
  {
   "cell_type": "code",
   "execution_count": 37,
   "metadata": {},
   "outputs": [
    {
     "name": "stdout",
     "output_type": "stream",
     "text": [
      "['aaa', 'abate', 'abating', 'ability', 'above', 'abroad', 'absence', 'absent', 'accelerated', 'accelerates', 'accelerating', 'accommodate', 'accommodation', 'accommodative', 'accompanying', 'accordingly', 'account', 'accumulated', 'achieved', 'achieving', 'act', 'action', 'actions', 'activity', 'actual', 'add', 'addendum', 'addition', 'additional', 'address', 'addressed', 'adhoc', 'adjust', 'adjusting', 'adjustment', 'adjustments', 'adopt', 'adopted', 'advance', 'advanced', 'advances', 'advancing', 'adverse', 'affect', 'affected', 'affords', 'after', 'aftermath', 'again', 'against', 'agency', 'aggregate', 'aggressive', 'ago', 'agreed', 'ahead', 'alan', 'albeit', 'alert', 'alfred', 'alignment', 'all', 'allotment', 'allowed', 'almost', 'along', 'already', 'also', 'alter', 'altered', 'alternate', 'although', 'always', 'among', 'amount', 'amounts', 'an', 'analysts', 'anchored', 'and', 'announce', 'announced', 'announcement', 'announcements', 'announcing', 'anthony', 'anticipate', 'anticipated', 'anticipates', 'any', 'apart', 'apparent', 'apparently', 'appear', 'appeared', 'appearing', 'appears', 'appreciable', 'appreciably', 'approach', 'appropriate', 'approve', 'approved', 'approximately', 'april', 'are', 'areas', 'arise', 'arising', 'around', 'arrangement', 'arrangements', 'as', 'aspects', 'aspx', 'assess', 'assessing', 'assessment', 'asset', 'assets', 'associated', 'assurance', 'at', 'atlanta', 'attacks', 'attainment', 'attention', 'attributable', 'auction', 'auctions', 'augmented', 'august', 'authorized', 'autumn', 'availability', 'available', 'average', 'averaging', 'avoid', 'await', 'back', 'backdrop', 'backed', 'background', 'backup', 'balance', 'balanced', 'balances', 'bank', 'bankofengland', 'banks', 'banque', 'base', 'based', 'basis', 'be', 'because', 'become', 'becoming', 'been', 'before', 'began', 'begin', 'beginning', 'behavior', 'being', 'believe', 'believed', 'believes', 'below', 'benefits', 'best', 'better', 'between', 'biased', 'bies', 'billion', 'bit', 'bloom', 'board', 'boards', 'boj', 'bolster', 'bolstered', 'boost', 'boosted', 'boosting', 'borrow', 'boston', 'both', 'brainard', 'bring', 'bringing', 'brings', 'brisk', 'briskly', 'broaddus', 'broader', 'broadly', 'brought', 'build', 'buildup', 'bullard', 'business', 'businesses', 'but', 'buy', 'buying', 'by', 'ca', 'call', 'called', 'can', 'canada', 'capacity', 'capital', 'carefully', 'case', 'cathy', 'cause', 'caused', 'centers', 'central', 'century', 'certain', 'ch', 'chain', 'chair', 'chairman', 'change', 'changed', 'changes', 'characterization', 'characterize', 'charged', 'check', 'chicago', 'choice', 'chosen', 'christine', 'circumstances', 'city', 'clearly', 'cleveland', 'climate', 'close', 'closed', 'closely', 'closer', 'closing', 'clouding', 'co', 'collateral', 'com', 'combination', 'combined', 'coming', 'commercial', 'commit', 'commitment', 'commodities', 'commodity', 'communities', 'compensation', 'complete', 'completed', 'completely', 'completion', 'composition', 'concern', 'concerned', 'concerns', 'conclude', 'conclusion', 'conditions', 'conducive', 'conduct', 'confidence', 'confident', 'confirm', 'confirms', 'conflicting', 'conform', 'consequence', 'consequently', 'consider', 'considerable', 'considerably', 'considerations', 'considering', 'considers', 'consistency', 'consistent', 'constant', 'constrained', 'consult', 'consumer', 'consumers', 'consumption', 'contain', 'contained', 'containing', 'contemplates', 'context', 'contingent', 'continuation', 'continue', 'continued', 'continues', 'continuing', 'contract', 'contracting', 'contraction', 'contrast', 'contribute', 'contributed', 'conversely', 'conviction', 'convincingly', 'cooling', 'coordinated', 'core', 'corporate', 'correction', 'cost', 'costs', 'could', 'counter', 'counterparties', 'coupled', 'course', 'created', 'credibility', 'credit', 'crisis', 'crude', 'cumming', 'cumulate', 'cumulative', 'currency', 'current', 'currently', 'cushion', 'cut', 'cuts', 'cutting', 'dallas', 'damp', 'damped', 'dampen', 'damping', 'daniel', 'data', 'date', 'dates', 'day', 'days', 'dealer', 'dealers', 'debt', 'decelerated', 'december', 'decided', 'decides', 'decision', 'decisionmaking', 'decisions', 'decline', 'declined', 'declines', 'declining', 'decrease', 'decreasing', 'deepening', 'defend', 'degree', 'demand', 'demonstrated', 'dennis', 'depend', 'dependent', 'depository', 'depressed', 'describe', 'described', 'description', 'design', 'designed', 'despite', 'destabilize', 'details', 'deteriorate', 'deteriorated', 'deterioration', 'determination', 'determines', 'determining', 'devastated', 'devastation', 'developed', 'developing', 'developments', 'did', 'difficulties', 'diminish', 'diminished', 'diminishing', 'directive', 'directors', 'disagreed', 'disappointing', 'disappointingly', 'discount', 'discussed', 'dislocation', 'dislocations', 'disparity', 'disruption', 'disruptions', 'dissenters', 'dissipate', 'district', 'do', 'does', 'doing', 'dollar', 'dollars', 'domestic', 'domestically', 'down', 'downside', 'downturn', 'downward', 'drag', 'drain', 'drawings', 'drawn', 'driven', 'drop', 'dual', 'dudley', 'due', 'duke', 'duration', 'during', 'dynamic', 'each', 'earlier', 'early', 'earnings', 'ease', 'eased', 'easing', 'ebbing', 'ecb', 'economic', 'economies', 'economy', 'edge', 'edged', 'edward', 'effect', 'effective', 'effects', 'efficacy', 'efforts', 'element', 'elevated', 'elevating', 'eleven', 'eligible', 'elizabeth', 'emerged', 'emergence', 'emphasize', 'emphasized', 'emphasizes', 'employ', 'employers', 'employment', 'en', 'end', 'ends', 'energy', 'engender', 'england', 'enhance', 'enhanced', 'enough', 'ensure', 'ensuring', 'environment', 'envisions', 'equal', 'equipment', 'equity', 'eric', 'eroded', 'eroding', 'erosion', 'especially', 'essential', 'essentially', 'est', 'establish', 'established', 'esther', 'europe', 'european', 'evaluate', 'evaluating', 'evans', 'even', 'event', 'events', 'eventually', 'evidence', 'evidenced', 'evident', 'evidently', 'evolution', 'evolve', 'evolves', 'evolving', 'exacerbated', 'exceed', 'exceeds', 'exceptionally', 'excess', 'excesses', 'excluding', 'executed', 'exemplary', 'exert', 'exerting', 'exhibit', 'existing', 'expand', 'expanded', 'expanding', 'expansion', 'expansions', 'expansive', 'expect', 'expectation', 'expectations', 'expected', 'expecting', 'expects', 'expedite', 'expedited', 'expenditures', 'experience', 'expiration', 'expire', 'export', 'exports', 'express', 'extend', 'extended', 'extension', 'extent', 'extraordinary', 'extremely', 'facilitate', 'facilitating', 'facilities', 'facility', 'fact', 'factors', 'fail', 'fall', 'fallen', 'falling', 'faqs', 'far', 'faster', 'favor', 'favorable', 'features', 'february', 'fed', 'federal', 'federalreserve', 'ferguson', 'few', 'fifth', 'final', 'financial', 'financing', 'firm', 'firmed', 'firmer', 'firming', 'firms', 'first', 'fiscal', 'fischer', 'fisher', 'fixed', 'flat', 'flattened', 'flexibility', 'fluctuations', 'focus', 'following', 'fomc', 'food', 'footing', 'for', 'forceful', 'forces', 'foreign', 'foreseeable', 'forestall', 'forth', 'forward', 'foster', 'fostered', 'fostering', 'fosters', 'fourth', 'francisco', 'frb', 'friday', 'from', 'fulfill', 'full', 'fullest', 'fully', 'functioning', 'fund', 'fundamentals', 'funding', 'funds', 'further', 'furthermore', 'future', 'gains', 'gap', 'gary', 'gasoline', 'gauge', 'gdp', 'general', 'generally', 'generate', 'geopolitical', 'george', 'given', 'global', 'goal', 'goals', 'going', 'good', 'goods', 'gov', 'governance', 'government', 'governor', 'governors', 'gradual', 'gradually', 'gramlich', 'greater', 'greenspan', 'grow', 'growing', 'grown', 'growth', 'guidance', 'gulf', 'guynn', 'had', 'half', 'harbors', 'hardship', 'harvey', 'has', 'have', 'having', 'he', 'heightened', 'held', 'help', 'helped', 'helpful', 'hence', 'here', 'hesitancy', 'high', 'higher', 'highly', 'hinders', 'hiring', 'hold', 'holding', 'holdings', 'hostilities', 'household', 'households', 'housing', 'how', 'however', 'htm', 'html', 'http', 'https', 'hurricane', 'hurricanes', 'id', 'if', 'imbalances', 'immediately', 'impetus', 'implement', 'implementation', 'implementing', 'implications', 'implied', 'imply', 'import', 'importance', 'important', 'importantly', 'imported', 'imports', 'impressive', 'improve', 'improved', 'improvement', 'improvements', 'improves', 'improving', 'in', 'inception', 'include', 'includes', 'including', 'income', 'incomes', 'incoming', 'inconsistent', 'increase', 'increased', 'increases', 'increasing', 'indicate', 'indicated', 'indicates', 'indicating', 'indication', 'indicators', 'induced', 'industrial', 'inflation', 'inflationary', 'inflicting', 'influences', 'information', 'informative', 'informed', 'infrastructure', 'inhibiting', 'initial', 'initially', 'initiate', 'initiated', 'institutions', 'insufficient', 'int', 'intact', 'intended', 'intends', 'intensification', 'intensify', 'intentions', 'interest', 'intermeeting', 'international', 'into', 'inventories', 'inventory', 'investment', 'irma', 'is', 'issue', 'issued', 'it', 'items', 'its', 'jack', 'james', 'jamie', 'janet', 'january', 'japan', 'jeffrey', 'jeremy', 'jerome', 'jerry', 'job', 'jobs', 'john', 'jordan', 'jp', 'jr', 'judge', 'judged', 'judges', 'judging', 'judgment', 'july', 'juncture', 'june', 'justified', 'kansas', 'katrina', 'kb', 'keep', 'keeping', 'kept', 'key', 'kocherlakota', 'label', 'labor', 'lacker', 'lael', 'lag', 'lagged', 'language', 'large', 'largely', 'last', 'late', 'lately', 'later', 'latter', 'launched', 'lead', 'least', 'leave', 'leaving', 'led', 'lend', 'lending', 'less', 'lessened', 'level', 'leveling', 'levels', 'lift', 'light', 'like', 'likelihood', 'likely', 'limit', 'limited', 'limiting', 'limits', 'lines', 'liquidity', 'little', 'loan', 'loans', 'local', 'lockhart', 'long', 'longer', 'loretta', 'losses', 'louis', 'low', 'lower', 'macroeconomic', 'made', 'mainly', 'maintain', 'maintained', 'maintaining', 'major', 'majority', 'make', 'making', 'mandate', 'manner', 'manufacturing', 'many', 'march', 'margins', 'maria', 'mark', 'marked', 'markedly', 'market', 'markets', 'materially', 'mature', 'maturing', 'maturities', 'maturity', 'maximum', 'may', 'mbs', 'mcdonough', 'mcteer', 'mean', 'meanwhile', 'measure', 'measured', 'measures', 'medium', 'meet', 'meeting', 'meetings', 'members', 'mester', 'met', 'michael', 'mid', 'might', 'minehan', 'minneapolis', 'minor', 'minutes', 'misunderstanding', 'mitigate', 'mixed', 'mmr', 'moderate', 'moderated', 'moderately', 'moderating', 'moderation', 'modest', 'modestly', 'modifications', 'modify', 'monetary', 'money', 'monitor', 'monitoring', 'month', 'months', 'more', 'moreover', 'mortgage', 'moskow', 'most', 'mostly', 'motor', 'move', 'moved', 'moving', 'mr', 'ms', 'much', 'must', 'muted', 'mutual', 'narayana', 'national', 'near', 'nearing', 'nearly', 'necessary', 'need', 'needed', 'needs', 'net', 'nevertheless', 'new', 'news', 'newsevents', 'newyorkfed', 'next', 'no', 'non', 'none', 'nonetheless', 'noninflationary', 'nonresidential', 'normal', 'normalization', 'normalize', 'normally', 'not', 'notably', 'note', 'notice', 'notices_fmd', 'notwithstanding', 'november', 'now', 'number', 'ny', 'objected', 'objective', 'objectives', 'obligation', 'observed', 'obtain', 'obtaining', 'occasion', 'occur', 'october', 'of', 'offered', 'official', 'oil', 'olson', 'omit', 'on', 'once', 'one', 'ongoing', 'only', 'open', 'operating_policy_', 'operating_policy_a', 'operations', 'opolicy', 'opposed', 'or', 'order', 'orderly', 'org', 'other', 'otherwise', 'out', 'outcomes', 'outlook', 'outpace', 'output', 'outstanding', 'outweighed', 'over', 'overall', 'overnight', 'owe', 'owes', 'owing', 'pace', 'page', 'paper', 'paragraph', 'parry', 'part', 'particular', 'particularly', 'partly', 'partners', 'passage', 'past', 'path', 'patient', 'patterns', 'pause', 'paused', 'pay', 'payments', 'payroll', 'payrolls', 'pdf', 'peaks', 'per', 'perceives', 'percent', 'percentage', 'performance', 'period', 'persist', 'persistent', 'persistently', 'persisting', 'persists', 'philadelphia', 'pianalto', 'pick', 'picked', 'picking', 'pickup', 'place', 'planned', 'plans', 'pledge', 'plosser', 'point', 'points', 'poised', 'policies', 'policy', 'pool', 'poole', 'portion', 'pose', 'poses', 'positions', 'possibility', 'possible', 'potential', 'powell', 'power', 'pr', 'pr_', 'practice', 'pre_', 'pre__', 'predilection', 'predominant', 'predominate', 'preferred', 'preliminary', 'premature', 'premiums', 'prepared', 'preserve', 'preset', 'president', 'press', 'pressure', 'pressures', 'prevail', 'prevailed', 'prevalent', 'prevent', 'previous', 'previously', 'price', 'prices', 'pricing', 'primary', 'principal', 'principles', 'private', 'probability', 'probably', 'problems', 'proceed', 'proceeding', 'process', 'produce', 'product', 'production', 'productive', 'productivity', 'products', 'profit', 'profitability', 'profits', 'program', 'programs', 'progress', 'progressively', 'projected', 'prolonged', 'prolonging', 'promising', 'promote', 'pronounced', 'prospective', 'prospects', 'prove', 'proven', 'proves', 'provide', 'provided', 'providing', 'prudent', 'publications', 'purchase', 'purchased', 'purchases', 'purchasing', 'purposes', 'push', 'pushed', 'put', 'putting', 'quantities', 'quantity', 'quarter', 'quarters', 'quickly', 'quite', 'raise', 'raising', 'randall', 'range', 'rapid', 'rapidly', 'raskin', 'rate', 'rated', 'rates', 'rather', 'readings', 'ready', 'reaffirmed', 'real', 'realized', 'realizing', 'reallocation', 'reasonably', 'rebounded', 'rebuilding', 'receded', 'received', 'receiving', 'recent', 'recently', 'recession', 'reciprocal', 'recognizes', 'recognizing', 'record', 'recover', 'recovered', 'recovering', 'recovery', 'redeem', 'reduce', 'reduced', 'reducing', 'reduction', 'reductions', 'reemergence', 'reestablishment', 'reference', 'refining', 'reflect', 'reflected', 'reflecting', 'reflects', 'refrain', 'regained', 'regard', 'regarding', 'region', 'regular', 'regularly', 'reinforced', 'reinvest', 'reinvesting', 'reinvestment', 'related', 'relative', 'relatively', 'release', 'released', 'reluctant', 'remain', 'remained', 'remaining', 'remains', 'remarkable', 'remove', 'removed', 'removing', 'renewed', 'report', 'reportedly', 'reporting', 'reports', 'representing', 'repurchase', 'request', 'requested', 'requests', 'required', 'reserve', 'reserves', 'residential', 'resolution', 'resource', 'resources', 'respect', 'respectively', 'respond', 'response', 'rest', 'restored', 'restrain', 'restraining', 'restraint', 'restrictive', 'result', 'resume', 'resumed', 'resumption', 'retail', 'retrenchment', 'return', 'returned', 'reversal', 'review', 'reviewed', 'richard', 'richmond', 'riksbank', 'rise', 'risen', 'rising', 'risk', 'risks', 'robert', 'robust', 'roger', 'roll', 'rolled', 'rolling', 'rose', 'rosengren', 'roughly', 'run', 'running', 'sales', 'same', 'san', 'sandra', 'santomero', 'sapping', 'sarah', 'scaled', 'scheduled', 'second', 'sector', 'sectors', 'secured', 'securities', 'security', 'see', 'seeks', 'seem', 'seems', 'seen', 'sees', 'segments', 'seizing', 'sell', 'sensitive', 'sentiment', 'september', 'series', 'serve', 'set', 'settle', 'settled', 'seven', 'several', 'severe', 'sharp', 'sharply', 'sheet', 'short', 'shortfall', 'shortfalls', 'shortly', 'should', 'show', 'showed', 'shown', 'shows', 'signal', 'significant', 'significantly', 'signify', 'signs', 'similar', 'similarly', 'since', 'situation', 'six', 'sixth', 'sizable', 'size', 'slack', 'slide', 'slight', 'slightly', 'slow', 'slowed', 'slower', 'slowing', 'slowly', 'sluggish', 'sluggishness', 'slumped', 'small', 'smooth', 'snb', 'so', 'soft', 'soften', 'softened', 'softening', 'softness', 'software', 'solid', 'some', 'somewhat', 'soon', 'sooner', 'source', 'special', 'specific', 'specifically', 'spending', 'spot', 'spread', 'spring', 'spurred', 'st', 'stability', 'stabilization', 'stabilize', 'stabilized', 'stabilizing', 'stable', 'staffing', 'stalled', 'stance', 'stands', 'stanley', 'starting', 'starts', 'state', 'stated', 'statement', 'statements', 'states', 'statutory', 'stayed', 'steady', 'steeply', 'stein', 'step', 'steps', 'stern', 'stewart', 'still', 'stimulate', 'stimulus', 'stock', 'stocks', 'storm', 'storms', 'strain', 'strained', 'strains', 'strength', 'strengthen', 'strengthened', 'strengthening', 'strengthens', 'stress', 'strong', 'stronger', 'strongly', 'structures', 'subdued', 'submitted', 'subsequently', 'subside', 'substantial', 'substantially', 'such', 'sufficient', 'sufficiently', 'suggest', 'suggested', 'suggests', 'summer', 'supplement', 'supplies', 'supply', 'support', 'supported', 'supporting', 'supportive', 'supports', 'sure', 'surrounding', 'surveillance', 'survey', 'susan', 'sustain', 'sustainable', 'sustained', 'sustaining', 'sveriges', 'swap', 'swaps', 'swing', 'swiss', 'symmetric', 'symmetrical', 'system', 'systems', 'take', 'taken', 'takes', 'taking', 'target', 'targeted', 'tarullo', 'technical', 'technologies', 'technology', 'templates', 'temporarily', 'temporary', 'tended', 'tenders', 'tensions', 'tentative', 'term', 'terrorist', 'than', 'that', 'their', 'then', 'there', 'thereby', 'therefore', 'these', 'they', 'third', 'this', 'those', 'though', 'threat', 'threatens', 'three', 'thresholds', 'through', 'throughout', 'thus', 'tight', 'tighten', 'tightened', 'tightening', 'tighter', 'tilted', 'time', 'timely', 'timing', 'to', 'today', 'together', 'toll', 'took', 'tools', 'total', 'toward', 'traction', 'trading', 'tragic', 'transactions', 'transition', 'transitory', 'treasury', 'trend', 'trended', 'trending', 'trends', 'trillion', 'tslf', 'turmoil', 'turn', 'twelve', 'two', 'type', 'types', 'uk', 'una', 'unacceptably', 'unanimously', 'uncertain', 'uncertainties', 'uncertainty', 'unchanged', 'und', 'under', 'underlying', 'undermine', 'underpinning', 'undertake', 'underutilization', 'underway', 'undesirably', 'undue', 'unemployment', 'uneven', 'unfortunate', 'unit', 'united', 'unlikely', 'until', 'unusual', 'unusually', 'unwelcome', 'up', 'updated', 'upside', 'upward', 'use', 'usefully', 'using', 'utilization', 'variations', 'vehicles', 'very', 'vice', 'view', 'viewed', 'views', 'volatile', 'volatility', 'volumes', 'vote', 'voted', 'voting', 'wait', 'warrant', 'warranted', 'warrants', 'warsh', 'was', 'way', 'ways', 'we', 'weak', 'weaken', 'weakened', 'weakening', 'weakens', 'weaker', 'weakness', 'wealth', 'weather', 'websites', 'week', 'weekly', 'weeks', 'weigh', 'weighed', 'weighing', 'weighted', 'well', 'were', 'what', 'when', 'whether', 'which', 'while', 'who', 'whom', 'wide', 'widespread', 'will', 'william', 'williams', 'willing', 'willingness', 'winding', 'window', 'winter', 'with', 'without', 'work', 'workers', 'working', 'works', 'would', 'written', 'www', 'year', 'years', 'yellen', 'yet', 'york']\n"
     ]
    }
   ],
   "source": [
    "print(vectorizer.get_feature_names())"
   ]
  },
  {
   "cell_type": "code",
   "execution_count": 38,
   "metadata": {},
   "outputs": [
    {
     "name": "stdout",
     "output_type": "stream",
     "text": [
      "frozenset({'kevin', 'frederic', 'hoenig', 'the', 'bernanke', 'geithner', 'mishkin', 'charles', 'kroszner', 'donald', 'about', 'ben', 'kohn', 'committee', 'timothy', 'thomas'})\n"
     ]
    }
   ],
   "source": [
    "print(vectorizer.get_stop_words())"
   ]
  },
  {
   "cell_type": "code",
   "execution_count": 39,
   "metadata": {},
   "outputs": [],
   "source": [
    "seed = 10\n",
    "X_train, X_test, y_train, y_test = ms.train_test_split(X, y, test_size=0.1,random_state=seed)"
   ]
  },
  {
   "cell_type": "code",
   "execution_count": 40,
   "metadata": {},
   "outputs": [
    {
     "data": {
      "text/plain": [
       "count      184\n",
       "unique       2\n",
       "top       True\n",
       "freq        99\n",
       "Name: structure_label, dtype: object"
      ]
     },
     "execution_count": 40,
     "metadata": {},
     "output_type": "execute_result"
    }
   ],
   "source": [
    "y.describe()"
   ]
  },
  {
   "cell_type": "markdown",
   "metadata": {},
   "source": [
    "## Prediction"
   ]
  },
  {
   "cell_type": "markdown",
   "metadata": {},
   "source": [
    "### Naive Bayes"
   ]
  },
  {
   "cell_type": "code",
   "execution_count": 41,
   "metadata": {},
   "outputs": [
    {
     "name": "stderr",
     "output_type": "stream",
     "text": [
      "/Users/fohanlin/PycharmProjects/w266NLP/venv/lib/python3.6/site-packages/sklearn/model_selection/_split.py:1978: FutureWarning: The default value of cv will change from 3 to 5 in version 0.22. Specify it explicitly to silence this warning.\n",
      "  warnings.warn(CV_WARNING, FutureWarning)\n",
      "/Users/fohanlin/PycharmProjects/w266NLP/venv/lib/python3.6/site-packages/sklearn/model_selection/_search.py:814: DeprecationWarning: The default of the `iid` parameter will change from True to False in version 0.22 and will be removed in 0.24. This will change numeric results when test-set sizes are unequal.\n",
      "  DeprecationWarning)\n"
     ]
    },
    {
     "data": {
      "text/plain": [
       "GridSearchCV(cv='warn', error_score='raise-deprecating',\n",
       "             estimator=BernoulliNB(alpha=1.0, binarize=0.0, class_prior=None,\n",
       "                                   fit_prior=True),\n",
       "             iid='warn', n_jobs=None,\n",
       "             param_grid={'alpha': array([1.00000000e-02, 1.20679264e-02, 1.45634848e-02, 1.75751062e-02,\n",
       "       2.12095089e-02, 2.55954792e-02, 3.08884360e-02, 3.72759372e-02,\n",
       "       4.49843267e-02, 5.42867544e-02, 6.55128557e-02, 7....\n",
       "       4.09491506e+00, 4.94171336e+00, 5.96362332e+00, 7.19685673e+00,\n",
       "       8.68511374e+00, 1.04811313e+01, 1.26485522e+01, 1.52641797e+01,\n",
       "       1.84206997e+01, 2.22299648e+01, 2.68269580e+01, 3.23745754e+01,\n",
       "       3.90693994e+01, 4.71486636e+01, 5.68986603e+01, 6.86648845e+01,\n",
       "       8.28642773e+01, 1.00000000e+02])},\n",
       "             pre_dispatch='2*n_jobs', refit=True, return_train_score=False,\n",
       "             scoring=None, verbose=0)"
      ]
     },
     "execution_count": 41,
     "metadata": {},
     "output_type": "execute_result"
    }
   ],
   "source": [
    "# Use GridSearchCV to find optimal alpha\n",
    "nb_model = ms.GridSearchCV(nb.BernoulliNB(), param_grid={'alpha': np.logspace(-2., 2., 50)})\n",
    "nb_model.fit(X_train, y_train)"
   ]
  },
  {
   "cell_type": "code",
   "execution_count": 42,
   "metadata": {},
   "outputs": [
    {
     "data": {
      "text/plain": [
       "0.6842105263157895"
      ]
     },
     "execution_count": 42,
     "metadata": {},
     "output_type": "execute_result"
    }
   ],
   "source": [
    "nb_model.score(X_test, y_test)"
   ]
  },
  {
   "cell_type": "markdown",
   "metadata": {},
   "source": [
    "### SVM"
   ]
  },
  {
   "cell_type": "code",
   "execution_count": 43,
   "metadata": {},
   "outputs": [
    {
     "name": "stderr",
     "output_type": "stream",
     "text": [
      "/Users/fohanlin/PycharmProjects/w266NLP/venv/lib/python3.6/site-packages/sklearn/model_selection/_search.py:814: DeprecationWarning: The default of the `iid` parameter will change from True to False in version 0.22 and will be removed in 0.24. This will change numeric results when test-set sizes are unequal.\n",
      "  DeprecationWarning)\n"
     ]
    },
    {
     "data": {
      "text/plain": [
       "GridSearchCV(cv=5, error_score='raise-deprecating',\n",
       "             estimator=SVC(C=1.0, cache_size=200, class_weight=None, coef0=0.0,\n",
       "                           decision_function_shape='ovr', degree=3,\n",
       "                           gamma='auto_deprecated', kernel='rbf', max_iter=-1,\n",
       "                           probability=False, random_state=None, shrinking=True,\n",
       "                           tol=0.001, verbose=False),\n",
       "             iid='warn', n_jobs=None,\n",
       "             param_grid={'C': [0.001, 0.01, 0.1, 1, 10],\n",
       "                         'gamma': [0.001, 0.01, 0.1, 1]},\n",
       "             pre_dispatch='2*n_jobs', refit=True, return_train_score=False,\n",
       "             scoring=None, verbose=0)"
      ]
     },
     "execution_count": 43,
     "metadata": {},
     "output_type": "execute_result"
    }
   ],
   "source": [
    "svm_model = ms.GridSearchCV(svm.SVC(kernel='rbf'), \n",
    "                            {'C': [0.001, 0.01, 0.1, 1, 10], 'gamma' : [0.001, 0.01, 0.1, 1]}, \n",
    "                            cv=5)\n",
    "svm_model.fit(X_train, y_train)"
   ]
  },
  {
   "cell_type": "code",
   "execution_count": 44,
   "metadata": {},
   "outputs": [
    {
     "data": {
      "text/plain": [
       "0.6842105263157895"
      ]
     },
     "execution_count": 44,
     "metadata": {},
     "output_type": "execute_result"
    }
   ],
   "source": [
    "svm_model.score(X_test, y_test)"
   ]
  },
  {
   "cell_type": "code",
   "execution_count": 45,
   "metadata": {},
   "outputs": [
    {
     "data": {
      "text/plain": [
       "count       19\n",
       "unique       2\n",
       "top       True\n",
       "freq        10\n",
       "Name: structure_label, dtype: object"
      ]
     },
     "execution_count": 45,
     "metadata": {},
     "output_type": "execute_result"
    }
   ],
   "source": [
    "y_test.describe()"
   ]
  },
  {
   "cell_type": "markdown",
   "metadata": {},
   "source": [
    "## Sentiment Analysis"
   ]
  },
  {
   "cell_type": "code",
   "execution_count": 50,
   "metadata": {},
   "outputs": [],
   "source": [
    "import nltk\n",
    "from nltk.tokenize import word_tokenize\n",
    "from nltk.corpus import stopwords"
   ]
  },
  {
   "cell_type": "code",
   "execution_count": 54,
   "metadata": {},
   "outputs": [
    {
     "data": {
      "text/plain": [
       "list"
      ]
     },
     "execution_count": 54,
     "metadata": {},
     "output_type": "execute_result"
    }
   ],
   "source": [
    "stop_words = list(set(stopwords.words('english')))\n",
    "type(stop_words)"
   ]
  },
  {
   "cell_type": "code",
   "execution_count": 55,
   "metadata": {},
   "outputs": [],
   "source": [
    "import pysentiment as ps"
   ]
  },
  {
   "cell_type": "code",
   "execution_count": 67,
   "metadata": {},
   "outputs": [],
   "source": [
    "def assignSentmentScore(x):\n",
    "    lm = ps.LM()\n",
    "    tokens = lm.tokenize(x)\n",
    "    score = lm.get_score(tokens)\n",
    "    return score['Polarity']"
   ]
  },
  {
   "cell_type": "code",
   "execution_count": 71,
   "metadata": {},
   "outputs": [],
   "source": [
    "sentimentScore = list(map(assignSentmentScore,out['Statement'].values))"
   ]
  },
  {
   "cell_type": "code",
   "execution_count": 73,
   "metadata": {},
   "outputs": [
    {
     "data": {
      "text/plain": [
       "184"
      ]
     },
     "execution_count": 73,
     "metadata": {},
     "output_type": "execute_result"
    }
   ],
   "source": [
    "len(sentimentScore)"
   ]
  },
  {
   "cell_type": "code",
   "execution_count": 76,
   "metadata": {},
   "outputs": [
    {
     "data": {
      "text/plain": [
       "[<matplotlib.lines.Line2D at 0x12e32e400>]"
      ]
     },
     "execution_count": 76,
     "metadata": {},
     "output_type": "execute_result"
    },
    {
     "data": {
      "image/png": "[encoded data removed]",
      "text/plain": [
       "<matplotlib.figure.Figure at 0x1361de0f0>"
      ]
     },
     "metadata": {
      "needs_background": "light"
     },
     "output_type": "display_data"
    }
   ],
   "source": [
    "plt.plot(out['Date'],sentimentScore)"
   ]
  },
  {
   "cell_type": "code",
   "execution_count": null,
   "metadata": {},
   "outputs": [],
   "source": []
  }
 ],
 "metadata": {
  "kernelspec": {
   "display_name": "Python 3",
   "language": "python",
   "name": "python3"
  },
  "language_info": {
   "codemirror_mode": {
    "name": "ipython",
    "version": 3
   },
   "file_extension": ".py",
   "mimetype": "text/x-python",
   "name": "python",
   "nbconvert_exporter": "python",
   "pygments_lexer": "ipython3",
   "version": "3.6.3"
  }
 },
 "nbformat": 4,
 "nbformat_minor": 2
}
